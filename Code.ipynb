{
  "nbformat": 4,
  "nbformat_minor": 0,
  "metadata": {
    "colab": {
      "name": "Code.ipynb",
      "provenance": []
    },
    "kernelspec": {
      "display_name": "Python 3",
      "language": "python",
      "name": "python3"
    },
    "language_info": {
      "codemirror_mode": {
        "name": "ipython",
        "version": 3
      },
      "file_extension": ".py",
      "mimetype": "text/x-python",
      "name": "python",
      "nbconvert_exporter": "python",
      "pygments_lexer": "ipython3",
      "version": "3.7.9"
    }
  },
  "cells": [
    {
      "cell_type": "markdown",
      "metadata": {
        "id": "nlxPmBU0x47v"
      },
      "source": [
        "## **1)** **Loading Dataset** from Google Drive"
      ]
    },
    {
      "cell_type": "code",
      "metadata": {
        "colab": {
          "base_uri": "https://localhost:8080/"
        },
        "id": "3EflsJDBw9HS",
        "outputId": "b4501532-887b-4016-afc2-6fdef534111c"
      },
      "source": [
        "from google.colab import drive\n",
        "drive.mount('/content/gdrive')"
      ],
      "execution_count": 1,
      "outputs": [
        {
          "output_type": "stream",
          "text": [
            "Mounted at /content/gdrive\n"
          ],
          "name": "stdout"
        }
      ]
    },
    {
      "cell_type": "code",
      "metadata": {
        "colab": {
          "base_uri": "https://localhost:8080/",
          "height": 221
        },
        "id": "GjuLPkEpx8Hs",
        "outputId": "ce88810d-7547-4b2a-c398-aa77bebdfcd7"
      },
      "source": [
        "import numpy as np\n",
        "import pandas as pd\n",
        "\n",
        "# Importing the Data file\n",
        "data = pd.read_csv('/content/gdrive/MyDrive/SMIA/data.csv')\n",
        "data = pd.read_csv('/content/gdrive/MyDrive/SMIA/data.csv')\n",
        "\n",
        "# Preview Data\n",
        "print(\"Size: \", len(data))\n",
        "data.head()"
      ],
      "execution_count": 4,
      "outputs": [
        {
          "output_type": "stream",
          "text": [
            "Size:  416809\n"
          ],
          "name": "stdout"
        },
        {
          "output_type": "execute_result",
          "data": {
            "text/html": [
              "<div>\n",
              "<style scoped>\n",
              "    .dataframe tbody tr th:only-of-type {\n",
              "        vertical-align: middle;\n",
              "    }\n",
              "\n",
              "    .dataframe tbody tr th {\n",
              "        vertical-align: top;\n",
              "    }\n",
              "\n",
              "    .dataframe thead th {\n",
              "        text-align: right;\n",
              "    }\n",
              "</style>\n",
              "<table border=\"1\" class=\"dataframe\">\n",
              "  <thead>\n",
              "    <tr style=\"text-align: right;\">\n",
              "      <th></th>\n",
              "      <th>text</th>\n",
              "      <th>emotions</th>\n",
              "    </tr>\n",
              "  </thead>\n",
              "  <tbody>\n",
              "    <tr>\n",
              "      <th>0</th>\n",
              "      <td>i feel awful about it too because it s my job ...</td>\n",
              "      <td>sadness</td>\n",
              "    </tr>\n",
              "    <tr>\n",
              "      <th>1</th>\n",
              "      <td>im alone i feel awful</td>\n",
              "      <td>sadness</td>\n",
              "    </tr>\n",
              "    <tr>\n",
              "      <th>2</th>\n",
              "      <td>ive probably mentioned this before but i reall...</td>\n",
              "      <td>joy</td>\n",
              "    </tr>\n",
              "    <tr>\n",
              "      <th>3</th>\n",
              "      <td>i was feeling a little low few days back</td>\n",
              "      <td>sadness</td>\n",
              "    </tr>\n",
              "    <tr>\n",
              "      <th>4</th>\n",
              "      <td>i beleive that i am much more sensitive to oth...</td>\n",
              "      <td>love</td>\n",
              "    </tr>\n",
              "  </tbody>\n",
              "</table>\n",
              "</div>"
            ],
            "text/plain": [
              "                                                text emotions\n",
              "0  i feel awful about it too because it s my job ...  sadness\n",
              "1                              im alone i feel awful  sadness\n",
              "2  ive probably mentioned this before but i reall...      joy\n",
              "3           i was feeling a little low few days back  sadness\n",
              "4  i beleive that i am much more sensitive to oth...     love"
            ]
          },
          "metadata": {
            "tags": []
          },
          "execution_count": 4
        }
      ]
    },
    {
      "cell_type": "code",
      "metadata": {
        "colab": {
          "base_uri": "https://localhost:8080/",
          "height": 415
        },
        "id": "TIBmest4y6CF",
        "outputId": "3f1f4236-d4c2-4c3c-b7c7-68296f33db0d"
      },
      "source": [
        "# Visualize the Samples\n",
        "print(data[data['emotions']=='sadness'].shape)\n",
        "print(data[data['emotions']=='joy'].shape)\n",
        "print(data[data['emotions']=='fear'].shape)\n",
        "print(data[data['emotions']=='love'].shape)\n",
        "print(data[data['emotions']=='anger'].shape)\n",
        "print(data[data['emotions']=='surprise'].shape)\n",
        "\n",
        "# Plotting Graph\n",
        "data.emotions.value_counts().plot.bar()"
      ],
      "execution_count": 5,
      "outputs": [
        {
          "output_type": "stream",
          "text": [
            "(121187, 2)\n",
            "(141067, 2)\n",
            "(47712, 2)\n",
            "(34554, 2)\n",
            "(57317, 2)\n",
            "(14972, 2)\n"
          ],
          "name": "stdout"
        },
        {
          "output_type": "execute_result",
          "data": {
            "text/plain": [
              "<matplotlib.axes._subplots.AxesSubplot at 0x7f67f4525590>"
            ]
          },
          "metadata": {
            "tags": []
          },
          "execution_count": 5
        },
        {
          "output_type": "display_data",
          "data": {
            "image/png": "[encoded data removed]",
            "text/plain": [
              "<Figure size 432x288 with 1 Axes>"
            ]
          },
          "metadata": {
            "tags": [],
            "needs_background": "light"
          }
        }
      ]
    },
    {
      "cell_type": "code",
      "metadata": {
        "colab": {
          "base_uri": "https://localhost:8080/",
          "height": 418
        },
        "id": "wVPxXnJfzhLa",
        "outputId": "2a23f585-4216-43ee-f1d0-96383d2590f6"
      },
      "source": [
        "import matplotlib.pyplot as plt\n",
        "%matplotlib inline\n",
        "\n",
        "# Analyzing Tweet Lengths\n",
        "reviews = [len(x) for x in data['text']]\n",
        "pd.Series(reviews).hist()\n",
        "plt.show()\n",
        "\n",
        "# Summarizing the Analysis\n",
        "pd.Series(reviews).describe()"
      ],
      "execution_count": 6,
      "outputs": [
        {
          "output_type": "display_data",
          "data": {
            "image/png": "[encoded data removed]",
            "text/plain": [
              "<Figure size 432x288 with 1 Axes>"
            ]
          },
          "metadata": {
            "tags": [],
            "needs_background": "light"
          }
        },
        {
          "output_type": "execute_result",
          "data": {
            "text/plain": [
              "count    416809.000000\n",
              "mean         97.028397\n",
              "std          56.198232\n",
              "min           2.000000\n",
              "25%          54.000000\n",
              "50%          86.000000\n",
              "75%         128.000000\n",
              "max         830.000000\n",
              "dtype: float64"
            ]
          },
          "metadata": {
            "tags": []
          },
          "execution_count": 6
        }
      ]
    },
    {
      "cell_type": "markdown",
      "metadata": {
        "id": "2K5tDQ6Q0ZN9"
      },
      "source": [
        "## **2) Data Preprocessing**"
      ]
    },
    {
      "cell_type": "markdown",
      "metadata": {
        "id": "oZ2yq9Nf054F"
      },
      "source": [
        "### Cleaning Text Data"
      ]
    },
    {
      "cell_type": "code",
      "metadata": {
        "colab": {
          "base_uri": "https://localhost:8080/"
        },
        "id": "qALgzVTY0CIi",
        "outputId": "fd8ac5b7-cb96-4ddf-e920-8de9cd54ea7f"
      },
      "source": [
        "import re\n",
        "import nltk\n",
        "from nltk.corpus import stopwords\n",
        "from nltk.stem import SnowballStemmer\n",
        "\n",
        "# Removing Stopwords\n",
        "nltk.download('stopwords')\n",
        "stop_words = stopwords.words(\"english\")\n",
        "\n",
        "# Stemming text data\n",
        "stemmer = SnowballStemmer(\"english\")\n",
        "\n",
        "# Removing Links, Users and Other Characters\n",
        "regex = \"@\\S+|https?:\\S+|http?:\\S|[^A-Za-z0-9]+\""
      ],
      "execution_count": 31,
      "outputs": [
        {
          "output_type": "stream",
          "text": [
            "[nltk_data] Downloading package stopwords to /root/nltk_data...\n",
            "[nltk_data]   Package stopwords is already up-to-date!\n"
          ],
          "name": "stdout"
        }
      ]
    },
    {
      "cell_type": "code",
      "metadata": {
        "id": "MdsBKByO1lc0"
      },
      "source": [
        "# Defining Cleaner Function\n",
        "def cleaner(text, stem=False):\n",
        "    text = re.sub(regex, ' ', str(text).lower()).strip()\n",
        "    tokens = []\n",
        "    for token in text.split():\n",
        "        if token not in stop_words:\n",
        "            if stem:\n",
        "                tokens.append(stemmer.stem(token))\n",
        "            else:\n",
        "                tokens.append(token)\n",
        "    return \" \".join(tokens)"
      ],
      "execution_count": 32,
      "outputs": []
    },
    {
      "cell_type": "code",
      "metadata": {
        "colab": {
          "base_uri": "https://localhost:8080/",
          "height": 0
        },
        "id": "xYC2kT9P2Lg8",
        "outputId": "469dce1f-3ec5-4e04-86cc-fe710ca64acf"
      },
      "source": [
        "# Applying Cleaner\n",
        "data.text = data.text.apply(lambda x: cleaner(x))\n",
        "\n",
        "# Preview Data\n",
        "data.head()"
      ],
      "execution_count": 33,
      "outputs": [
        {
          "output_type": "execute_result",
          "data": {
            "text/html": [
              "<div>\n",
              "<style scoped>\n",
              "    .dataframe tbody tr th:only-of-type {\n",
              "        vertical-align: middle;\n",
              "    }\n",
              "\n",
              "    .dataframe tbody tr th {\n",
              "        vertical-align: top;\n",
              "    }\n",
              "\n",
              "    .dataframe thead th {\n",
              "        text-align: right;\n",
              "    }\n",
              "</style>\n",
              "<table border=\"1\" class=\"dataframe\">\n",
              "  <thead>\n",
              "    <tr style=\"text-align: right;\">\n",
              "      <th></th>\n",
              "      <th>text</th>\n",
              "      <th>emotions</th>\n",
              "    </tr>\n",
              "  </thead>\n",
              "  <tbody>\n",
              "    <tr>\n",
              "      <th>0</th>\n",
              "      <td>feel awful job get position succeed happen</td>\n",
              "      <td>sadness</td>\n",
              "    </tr>\n",
              "    <tr>\n",
              "      <th>1</th>\n",
              "      <td>im alone feel awful</td>\n",
              "      <td>sadness</td>\n",
              "    </tr>\n",
              "    <tr>\n",
              "      <th>2</th>\n",
              "      <td>ive probably mentioned really feel proud actua...</td>\n",
              "      <td>joy</td>\n",
              "    </tr>\n",
              "    <tr>\n",
              "      <th>3</th>\n",
              "      <td>feeling little low days back</td>\n",
              "      <td>sadness</td>\n",
              "    </tr>\n",
              "    <tr>\n",
              "      <th>4</th>\n",
              "      <td>beleive much sensitive peoples feelings tend c...</td>\n",
              "      <td>love</td>\n",
              "    </tr>\n",
              "  </tbody>\n",
              "</table>\n",
              "</div>"
            ],
            "text/plain": [
              "                                                text emotions\n",
              "0         feel awful job get position succeed happen  sadness\n",
              "1                                im alone feel awful  sadness\n",
              "2  ive probably mentioned really feel proud actua...      joy\n",
              "3                       feeling little low days back  sadness\n",
              "4  beleive much sensitive peoples feelings tend c...     love"
            ]
          },
          "metadata": {
            "tags": []
          },
          "execution_count": 33
        }
      ]
    },
    {
      "cell_type": "markdown",
      "metadata": {
        "id": "9BzMNSSb4W8r"
      },
      "source": [
        "### Splitting Dataset"
      ]
    },
    {
      "cell_type": "code",
      "metadata": {
        "colab": {
          "base_uri": "https://localhost:8080/"
        },
        "id": "koDKj5Te4dek",
        "outputId": "ac225e4d-dc78-47f3-e982-f4e875631ba8"
      },
      "source": [
        "from sklearn.model_selection import train_test_split\n",
        "\n",
        "trainData, testData = train_test_split(data, test_size=0.3, random_state=50)\n",
        "print(\"Training set size:\", len(trainData))\n",
        "print(\"Testing set size:\", len(testData))"
      ],
      "execution_count": 43,
      "outputs": [
        {
          "output_type": "stream",
          "text": [
            "Training set size: 291766\n",
            "Testing set size: 125043\n"
          ],
          "name": "stdout"
        }
      ]
    },
    {
      "cell_type": "markdown",
      "metadata": {
        "id": "utvsoddo25Tr"
      },
      "source": [
        "### Tokenizing Text"
      ]
    },
    {
      "cell_type": "code",
      "metadata": {
        "colab": {
          "base_uri": "https://localhost:8080/"
        },
        "id": "hdHO-WaG2YDO",
        "outputId": "0f4ab7db-9c7f-4bed-f9cf-29cc4c6efcf7"
      },
      "source": [
        "from keras.preprocessing.text import Tokenizer\n",
        "from keras.preprocessing.sequence import pad_sequences\n",
        "\n",
        "# Setting Up Tokenizer\n",
        "tokenizer = Tokenizer()\n",
        "tokenizer.fit_on_texts(trainData.text)\n",
        "print(\"Total Unique Words: \", len(tokenizer.word_index) + 1)"
      ],
      "execution_count": 35,
      "outputs": [
        {
          "output_type": "stream",
          "text": [
            "Total Unique Words:  63686\n"
          ],
          "name": "stdout"
        }
      ]
    },
    {
      "cell_type": "code",
      "metadata": {
        "id": "6-Hor5_Y5-vc"
      },
      "source": [
        "# Applying Tokenizer\n",
        "Max_Text_Length = 100\n",
        "\n",
        "x_train = pad_sequences(tokenizer.texts_to_sequences(trainData.text), maxlen=Max_Text_Length)\n",
        "x_test = pad_sequences(tokenizer.texts_to_sequences(testData.text), maxlen=Max_Text_Length)"
      ],
      "execution_count": 36,
      "outputs": []
    },
    {
      "cell_type": "markdown",
      "metadata": {
        "id": "Dx6nPUTf64rp"
      },
      "source": [
        "### Encoding Labels"
      ]
    },
    {
      "cell_type": "code",
      "metadata": {
        "colab": {
          "base_uri": "https://localhost:8080/"
        },
        "id": "hjR-Js4j6hlw",
        "outputId": "6233900a-5ec9-42c9-eba0-bdb4b13bdbd3"
      },
      "source": [
        "# Setting Up Label Encoder\n",
        "Y = pd.get_dummies(data['emotions']).values"
      ],
      "execution_count": 54,
      "outputs": [
        {
          "output_type": "stream",
          "text": [
            "[[0 0 0 0 1 0]\n",
            " [0 0 0 0 1 0]\n",
            " [0 0 1 0 0 0]\n",
            " ...\n",
            " [0 0 0 0 1 0]\n",
            " [0 0 1 0 0 0]\n",
            " [0 0 0 0 1 0]]\n"
          ],
          "name": "stdout"
        }
      ]
    },
    {
      "cell_type": "code",
      "metadata": {
        "id": "ubw9idds7RDG"
      },
      "source": [
        "# Applying Label Encoder\n",
        "y_train, y_test = train_test_split(Y, test_size=0.3, random_state=50)"
      ],
      "execution_count": 55,
      "outputs": []
    },
    {
      "cell_type": "code",
      "metadata": {
        "colab": {
          "base_uri": "https://localhost:8080/"
        },
        "id": "FRfJeeQ87hcL",
        "outputId": "82668afe-69f6-41d4-a29f-e55ab129f7e2"
      },
      "source": [
        "# Checking Final Datasets\n",
        "print(\"X Train Size: \", x_train.shape)\n",
        "print(\"Y Train Size: \", y_train.shape)\n",
        "\n",
        "print(\"X Test Size: \", x_test.shape)\n",
        "print(\"Y Test Size: \", y_test.shape)"
      ],
      "execution_count": 56,
      "outputs": [
        {
          "output_type": "stream",
          "text": [
            "X Train Size:  (291766, 100)\n",
            "Y Train Size:  (291766, 6)\n",
            "X Test Size:  (125043, 100)\n",
            "Y Test Size:  (125043, 6)\n"
          ],
          "name": "stdout"
        }
      ]
    },
    {
      "cell_type": "markdown",
      "metadata": {
        "id": "hioy9fUn8DZj"
      },
      "source": [
        "## **3) Emotion Detection** using LSTM and Word2Vec"
      ]
    },
    {
      "cell_type": "markdown",
      "metadata": {
        "id": "4hYTXAmV8NuS"
      },
      "source": [
        "### Embedding Layer using Word2Vec"
      ]
    },
    {
      "cell_type": "code",
      "metadata": {
        "id": "-8AY1Mj28Mne"
      },
      "source": [
        "import gensim\n",
        "\n",
        "# Setting Up Word2Vec\n",
        "w2v_Size = 100\n",
        "w2v_Window = 7\n",
        "w2v_Epoch = 32\n",
        "w2v_Min_Count = 10\n",
        "\n",
        "# Defining Word2Vec Model\n",
        "w2v_model = gensim.models.word2vec.Word2Vec(size=w2v_Size, window=w2v_Window, min_count=w2v_Min_Count, workers=8)"
      ],
      "execution_count": 71,
      "outputs": []
    },
    {
      "cell_type": "code",
      "metadata": {
        "colab": {
          "base_uri": "https://localhost:8080/"
        },
        "id": "EOdC2I7g88Ig",
        "outputId": "0a36cf4c-cafa-485d-dce5-82c5a1933d96"
      },
      "source": [
        "# Building Vocabulary\n",
        "documents = [text.split() for text in trainData.text] \n",
        "w2v_model.build_vocab(documents)\n",
        "print(\"Vocabulary Size: \", len(w2v_model.wv.vocab.keys()) + 1)"
      ],
      "execution_count": 72,
      "outputs": [
        {
          "output_type": "stream",
          "text": [
            "Vocabulary Size:  12404\n"
          ],
          "name": "stdout"
        }
      ]
    },
    {
      "cell_type": "code",
      "metadata": {
        "colab": {
          "base_uri": "https://localhost:8080/"
        },
        "id": "knopLTrL9NPm",
        "outputId": "180ffba4-33ce-4e73-b485-b32b3b9f19a8"
      },
      "source": [
        "# Training Word2Vec Model\n",
        "w2v_model.train(documents, total_examples=len(documents), epochs=w2v_Epoch)"
      ],
      "execution_count": 73,
      "outputs": [
        {
          "output_type": "execute_result",
          "data": {
            "text/plain": [
              "(71112661, 87421248)"
            ]
          },
          "metadata": {
            "tags": []
          },
          "execution_count": 73
        }
      ]
    },
    {
      "cell_type": "code",
      "metadata": {
        "colab": {
          "base_uri": "https://localhost:8080/"
        },
        "id": "WwK6X_9I960z",
        "outputId": "9ef8872b-a3de-464f-8f5b-3168be86f85d"
      },
      "source": [
        "# Testing Sample\n",
        "w2v_model.most_similar(\"kill\")"
      ],
      "execution_count": 74,
      "outputs": [
        {
          "output_type": "stream",
          "text": [
            "/usr/local/lib/python3.7/dist-packages/ipykernel_launcher.py:2: DeprecationWarning: Call to deprecated `most_similar` (Method will be removed in 4.0.0, use self.wv.most_similar() instead).\n",
            "  \n"
          ],
          "name": "stderr"
        },
        {
          "output_type": "execute_result",
          "data": {
            "text/plain": [
              "[('convince', 0.48107293248176575),\n",
              " ('killed', 0.4541497230529785),\n",
              " ('die', 0.443779855966568),\n",
              " ('scream', 0.44216063618659973),\n",
              " ('destroy', 0.4392930269241333),\n",
              " ('swallow', 0.4301959276199341),\n",
              " ('offend', 0.42926788330078125),\n",
              " ('throw', 0.4286537170410156),\n",
              " ('screw', 0.42799949645996094),\n",
              " ('yell', 0.4241545796394348)]"
            ]
          },
          "metadata": {
            "tags": []
          },
          "execution_count": 74
        }
      ]
    },
    {
      "cell_type": "code",
      "metadata": {
        "colab": {
          "base_uri": "https://localhost:8080/"
        },
        "id": "NeSLjt5wBKE6",
        "outputId": "8813eec1-97df-4261-faf2-7afffa788945"
      },
      "source": [
        "from keras.layers import Embedding\n",
        "\n",
        "# Setting Up Embedding Layer\n",
        "vocab_size = len(tokenizer.word_index) + 1\n",
        "embedding_matrix = np.zeros((vocab_size, w2v_Size))\n",
        "\n",
        "for word, i in tokenizer.word_index.items():\n",
        "  if word in w2v_model.wv:\n",
        "    embedding_matrix[i] = w2v_model.wv[word]\n",
        "print(embedding_matrix.shape)\n",
        "\n",
        "embedding_layer = Embedding(vocab_size, w2v_Size, weights=[embedding_matrix], input_length=Max_Text_Length, trainable=False)"
      ],
      "execution_count": 75,
      "outputs": [
        {
          "output_type": "stream",
          "text": [
            "(63686, 100)\n"
          ],
          "name": "stdout"
        }
      ]
    },
    {
      "cell_type": "markdown",
      "metadata": {
        "id": "Je9FDi7wCbp4"
      },
      "source": [
        "### Building and Compiling the Model"
      ]
    },
    {
      "cell_type": "code",
      "metadata": {
        "colab": {
          "base_uri": "https://localhost:8080/"
        },
        "id": "ZLXspBiYCeNo",
        "outputId": "2f7992b0-7edf-4b24-de33-db862e9bab9e"
      },
      "source": [
        "from tensorflow import keras\n",
        "from keras.models import Sequential\n",
        "from keras.layers import Dense, Embedding, LSTM, Dropout\n",
        "\n",
        "# Defining Model Architecture\n",
        "lstmModel = Sequential()\n",
        "\n",
        "lstmModel.add(embedding_layer)\n",
        "lstmModel.add(Dropout(0.5))\n",
        "\n",
        "lstmModel.add(LSTM(100, dropout=0.2, recurrent_dropout=0.2))\n",
        "lstmModel.add(Dense(6, activation='softmax'))\n",
        "\n",
        "print(lstmModel.summary())"
      ],
      "execution_count": 81,
      "outputs": [
        {
          "output_type": "stream",
          "text": [
            "Model: \"sequential_2\"\n",
            "_________________________________________________________________\n",
            "Layer (type)                 Output Shape              Param #   \n",
            "=================================================================\n",
            "embedding_1 (Embedding)      (None, 100, 100)          6368600   \n",
            "_________________________________________________________________\n",
            "dropout_2 (Dropout)          (None, 100, 100)          0         \n",
            "_________________________________________________________________\n",
            "lstm_2 (LSTM)                (None, 100)               80400     \n",
            "_________________________________________________________________\n",
            "dense_2 (Dense)              (None, 6)                 606       \n",
            "=================================================================\n",
            "Total params: 6,449,606\n",
            "Trainable params: 81,006\n",
            "Non-trainable params: 6,368,600\n",
            "_________________________________________________________________\n",
            "None\n"
          ],
          "name": "stdout"
        }
      ]
    },
    {
      "cell_type": "code",
      "metadata": {
        "colab": {
          "base_uri": "https://localhost:8080/",
          "height": 533
        },
        "id": "bHjmtrOeF21p",
        "outputId": "a382beeb-48f9-47a5-df8d-e2c93ee34955"
      },
      "source": [
        "from keras.utils.vis_utils import plot_model\n",
        "\n",
        "# Compiling the Model\n",
        "lstmModel.compile(loss='categorical_crossentropy', optimizer=\"adam\", metrics=['accuracy'])\n",
        "\n",
        "# Plotting Model Architecture\n",
        "plot_model(lstmModel, to_file='model_plot.png', show_shapes=True, show_layer_names=True)"
      ],
      "execution_count": 82,
      "outputs": [
        {
          "output_type": "execute_result",
          "data": {
            "image/png": "[encoded data removed]",
            "text/plain": [
              "<IPython.core.display.Image object>"
            ]
          },
          "metadata": {
            "tags": []
          },
          "execution_count": 82
        }
      ]
    },
    {
      "cell_type": "markdown",
      "metadata": {
        "id": "tKgoMV62GuC_"
      },
      "source": [
        "### Training and Testing the Model"
      ]
    },
    {
      "cell_type": "code",
      "metadata": {
        "id": "T10B4XPUOo9d"
      },
      "source": [
        "Batch_Size = 1024"
      ],
      "execution_count": 107,
      "outputs": []
    },
    {
      "cell_type": "code",
      "metadata": {
        "id": "6As_HyKZGyke",
        "colab": {
          "base_uri": "https://localhost:8080/"
        },
        "outputId": "44dba00b-381c-4058-8a68-8ce53617ee5a"
      },
      "source": [
        "modelScore = lstmModel.fit(x_train, y_train, batch_size=Batch_Size, epochs=3, validation_split=0.1, verbose=1)"
      ],
      "execution_count": 84,
      "outputs": [
        {
          "output_type": "stream",
          "text": [
            "Epoch 1/3\n",
            "257/257 [==============================] - 592s 2s/step - loss: 1.2603 - accuracy: 0.5203 - val_loss: 0.3309 - val_accuracy: 0.8785\n",
            "Epoch 2/3\n",
            "257/257 [==============================] - 588s 2s/step - loss: 0.5976 - accuracy: 0.7780 - val_loss: 0.1765 - val_accuracy: 0.9274\n",
            "Epoch 3/3\n",
            "257/257 [==============================] - 592s 2s/step - loss: 0.4434 - accuracy: 0.8342 - val_loss: 0.1359 - val_accuracy: 0.9332\n"
          ],
          "name": "stdout"
        }
      ]
    },
    {
      "cell_type": "code",
      "metadata": {
        "colab": {
          "base_uri": "https://localhost:8080/"
        },
        "id": "QwvmBy2lXRCz",
        "outputId": "07dcbac7-8529-4c62-8ba8-2b63099e1a4d"
      },
      "source": [
        "# Predicting the Test Data\n",
        "y_pred = lstmModel.predict(x_test, verbose=1, batch_size=Batch_Size)"
      ],
      "execution_count": 110,
      "outputs": [
        {
          "output_type": "stream",
          "text": [
            "123/123 [==============================] - 58s 470ms/step\n"
          ],
          "name": "stdout"
        }
      ]
    },
    {
      "cell_type": "code",
      "metadata": {
        "id": "MqqXDodJTh4b"
      },
      "source": [
        "# Deciding Emotions on the predicted values\n",
        "y_pred = np.array([[1 if x > 0.5 else 0 for x in y ] for y in y_pred])"
      ],
      "execution_count": 111,
      "outputs": []
    },
    {
      "cell_type": "code",
      "metadata": {
        "colab": {
          "base_uri": "https://localhost:8080/",
          "height": 295
        },
        "id": "71IJKLZcTnYD",
        "outputId": "803811fc-d1e0-474f-bfcf-a94ccf1ce505"
      },
      "source": [
        "import seaborn as sn\n",
        "from sklearn.metrics import confusion_matrix\n",
        "\n",
        "# Confusion Matrix\n",
        "cm = confusion_matrix(y_test.argmax(axis=1), y_pred.argmax(axis=1))\n",
        "sn.heatmap(cm/np.sum(cm), annot=True, fmt='.2%', cmap='Blues')\n",
        "plt.xlabel(\"True Label\")\n",
        "plt.ylabel(\"Predicted Label\")\n",
        "plt.title('Confusion Matrix for LSTM Model')\n",
        "plt.show()"
      ],
      "execution_count": 112,
      "outputs": [
        {
          "output_type": "display_data",
          "data": {
            "image/png": "[encoded data removed]",
            "text/plain": [
              "<Figure size 432x288 with 2 Axes>"
            ]
          },
          "metadata": {
            "tags": [],
            "needs_background": "light"
          }
        }
      ]
    },
    {
      "cell_type": "code",
      "metadata": {
        "colab": {
          "base_uri": "https://localhost:8080/"
        },
        "id": "iO0ndMrdT8Zr",
        "outputId": "3b01d0d4-a4d6-41ea-b158-cea8a9cad854"
      },
      "source": [
        "from sklearn.metrics import accuracy_score\n",
        "from sklearn.metrics import f1_score\n",
        "from sklearn.metrics import roc_auc_score\n",
        "from sklearn.metrics import log_loss\n",
        "\n",
        "# Performance Measures\n",
        "print(\"Accuracy:\", accuracy_score(y_test, y_pred))\n",
        "print(\"F1 Score:\", f1_score(y_test, y_pred, average='micro'))\n",
        "print(\"AUC ROC:\", roc_auc_score(y_test, y_pred, multi_class='ovr'))\n",
        "print(\"Log Loss:\", log_loss(y_test, y_pred))"
      ],
      "execution_count": 113,
      "outputs": [
        {
          "output_type": "stream",
          "text": [
            "Accuracy: 0.92648129043609\n",
            "F1 Score: 0.9336078685776683\n",
            "AUC ROC: 0.9497932414651838\n",
            "Log Loss: 2.039305807500512\n"
          ],
          "name": "stdout"
        }
      ]
    },
    {
      "cell_type": "markdown",
      "metadata": {
        "id": "Vigmk9F79ffr"
      },
      "source": [
        "## **4) Emotion Detection** using LSTM and custom EMBD Layer"
      ]
    },
    {
      "cell_type": "markdown",
      "metadata": {
        "id": "iih5IbOr96Ri"
      },
      "source": [
        "### Building and Compiling the Model"
      ]
    },
    {
      "cell_type": "code",
      "metadata": {
        "colab": {
          "base_uri": "https://localhost:8080/"
        },
        "id": "2L0VIvIG9mo6",
        "outputId": "bb118c20-e18d-47fa-d445-d0d9f10928c3"
      },
      "source": [
        "from tensorflow import keras\n",
        "from keras.models import Sequential\n",
        "from keras.layers import Dense, Embedding, LSTM, SpatialDropout1D\n",
        "\n",
        "# Defining Model Architecture\n",
        "nnModel = Sequential()\n",
        "\n",
        "nnModel.add(Embedding(63686, 64, input_length = x_train.shape[1]))\n",
        "nnModel.add(SpatialDropout1D(0.4))\n",
        "\n",
        "nnModel.add(LSTM(64, dropout=0.2, recurrent_dropout=0.2))\n",
        "nnModel.add(Dense(6, activation='softmax'))\n",
        "\n",
        "print(nnModel.summary())"
      ],
      "execution_count": 159,
      "outputs": [
        {
          "output_type": "stream",
          "text": [
            "Model: \"sequential_6\"\n",
            "_________________________________________________________________\n",
            "Layer (type)                 Output Shape              Param #   \n",
            "=================================================================\n",
            "embedding_4 (Embedding)      (None, 100, 64)           4075904   \n",
            "_________________________________________________________________\n",
            "spatial_dropout1d_2 (Spatial (None, 100, 64)           0         \n",
            "_________________________________________________________________\n",
            "lstm_5 (LSTM)                (None, 64)                33024     \n",
            "_________________________________________________________________\n",
            "dense_5 (Dense)              (None, 6)                 390       \n",
            "=================================================================\n",
            "Total params: 4,109,318\n",
            "Trainable params: 4,109,318\n",
            "Non-trainable params: 0\n",
            "_________________________________________________________________\n",
            "None\n"
          ],
          "name": "stdout"
        }
      ]
    },
    {
      "cell_type": "code",
      "metadata": {
        "colab": {
          "base_uri": "https://localhost:8080/",
          "height": 533
        },
        "id": "k3V-KGB59u-D",
        "outputId": "78f3f030-aa79-4f47-83c7-650c6b33f1ca"
      },
      "source": [
        "from keras.utils.vis_utils import plot_model\n",
        "\n",
        "# Compiling the Model\n",
        "nnModel.compile(loss = 'categorical_crossentropy', optimizer='adam', metrics = ['accuracy'])\n",
        "\n",
        "# Plotting Model Architecture\n",
        "plot_model(nnModel, to_file='model_plot.png', show_shapes=True, show_layer_names=True)"
      ],
      "execution_count": 160,
      "outputs": [
        {
          "output_type": "execute_result",
          "data": {
            "image/png": "[encoded data removed]",
            "text/plain": [
              "<IPython.core.display.Image object>"
            ]
          },
          "metadata": {
            "tags": []
          },
          "execution_count": 160
        }
      ]
    },
    {
      "cell_type": "markdown",
      "metadata": {
        "id": "0kCuwRac-BCq"
      },
      "source": [
        "### Training and Testing the Model"
      ]
    },
    {
      "cell_type": "code",
      "metadata": {
        "id": "D10fT-rQ-DnR"
      },
      "source": [
        "Batch_Size = 1024"
      ],
      "execution_count": 161,
      "outputs": []
    },
    {
      "cell_type": "code",
      "metadata": {
        "colab": {
          "base_uri": "https://localhost:8080/"
        },
        "id": "6JhkUO0Q-HjC",
        "outputId": "26433e01-b79a-4e47-9f75-1b385752f56d"
      },
      "source": [
        "modelScore = nnModel.fit(x_train, y_train, batch_size=Batch_Size, epochs=3, validation_split=0.1, verbose=1)"
      ],
      "execution_count": 122,
      "outputs": [
        {
          "output_type": "stream",
          "text": [
            "Epoch 1/3\n",
            "257/257 [==============================] - 368s 1s/step - loss: 1.3149 - accuracy: 0.4954 - val_loss: 0.2319 - val_accuracy: 0.9074\n",
            "Epoch 2/3\n",
            "257/257 [==============================] - 371s 1s/step - loss: 0.2249 - accuracy: 0.9149 - val_loss: 0.1512 - val_accuracy: 0.9208\n",
            "Epoch 3/3\n",
            "257/257 [==============================] - 369s 1s/step - loss: 0.1443 - accuracy: 0.9339 - val_loss: 0.1228 - val_accuracy: 0.9272\n"
          ],
          "name": "stdout"
        }
      ]
    },
    {
      "cell_type": "code",
      "metadata": {
        "colab": {
          "base_uri": "https://localhost:8080/"
        },
        "id": "m3L80y9c-KEx",
        "outputId": "ba28457c-58d3-44b9-c27a-f69fe3be36fc"
      },
      "source": [
        "# Predicting the Test Data\n",
        "y_pred = nnM.predict(x_test, verbose=1, batch_size=Batch_Size)"
      ],
      "execution_count": 123,
      "outputs": [
        {
          "output_type": "stream",
          "text": [
            "123/123 [==============================] - 31s 250ms/step\n"
          ],
          "name": "stdout"
        }
      ]
    },
    {
      "cell_type": "code",
      "metadata": {
        "id": "Oc7IXBg7-M7r"
      },
      "source": [
        "# Deciding Emotions on the predicted values\n",
        "y_pred = np.array([[1 if x > 0.5 else 0 for x in y ] for y in y_pred])"
      ],
      "execution_count": 124,
      "outputs": []
    },
    {
      "cell_type": "code",
      "metadata": {
        "colab": {
          "base_uri": "https://localhost:8080/",
          "height": 295
        },
        "id": "9jwzgDRT-WJK",
        "outputId": "f79c1e8a-a6c0-4bba-ab32-8e83183a0ea5"
      },
      "source": [
        "import seaborn as sn\n",
        "from sklearn.metrics import confusion_matrix\n",
        "\n",
        "# Confusion Matrix\n",
        "cm = confusion_matrix(y_test.argmax(axis=1), y_pred.argmax(axis=1))\n",
        "sn.heatmap(cm/np.sum(cm), annot=True, fmt='.2%', cmap='Blues')\n",
        "plt.xlabel(\"True Label\")\n",
        "plt.ylabel(\"Predicted Label\")\n",
        "plt.title('Confusion Matrix for LSTM Model')\n",
        "plt.show()"
      ],
      "execution_count": 125,
      "outputs": [
        {
          "output_type": "display_data",
          "data": {
            "image/png": "[encoded data removed]",
            "text/plain": [
              "<Figure size 432x288 with 2 Axes>"
            ]
          },
          "metadata": {
            "tags": [],
            "needs_background": "light"
          }
        }
      ]
    },
    {
      "cell_type": "code",
      "metadata": {
        "colab": {
          "base_uri": "https://localhost:8080/"
        },
        "id": "LGTIsL_5-YT6",
        "outputId": "2d14cf18-14fe-4b29-d355-cd219bb23a6b"
      },
      "source": [
        "from sklearn.metrics import accuracy_score\n",
        "from sklearn.metrics import f1_score\n",
        "from sklearn.metrics import roc_auc_score\n",
        "from sklearn.metrics import log_loss\n",
        "\n",
        "# Performance Measures\n",
        "print(\"Accuracy:\", accuracy_score(y_test, y_pred))\n",
        "print(\"F1 Score:\", f1_score(y_test, y_pred, average='micro'))\n",
        "print(\"AUC ROC:\", roc_auc_score(y_test, y_pred, multi_class='ovr'))\n",
        "print(\"Log Loss:\", log_loss(y_test, y_pred))"
      ],
      "execution_count": 126,
      "outputs": [
        {
          "output_type": "stream",
          "text": [
            "Accuracy: 0.9200594995321609\n",
            "F1 Score: 0.9245661337180101\n",
            "AUC ROC: 0.9330834598015311\n",
            "Log Loss: 2.441807979743934\n"
          ],
          "name": "stdout"
        }
      ]
    },
    {
      "cell_type": "markdown",
      "metadata": {
        "id": "3KhnmEcUVd5W"
      },
      "source": [
        "## **5) Emotion Detection** using other models"
      ]
    },
    {
      "cell_type": "markdown",
      "metadata": {
        "id": "0qHKRc39VxK7"
      },
      "source": [
        "### Required Preprocessing "
      ]
    },
    {
      "cell_type": "code",
      "metadata": {
        "id": "x2tP3oAzV06i",
        "colab": {
          "base_uri": "https://localhost:8080/"
        },
        "outputId": "d1c7cd25-90d7-4d14-bcf0-4411b6dca6b3"
      },
      "source": [
        "from sklearn.preprocessing import StandardScaler\n",
        "\n",
        "# Scaling the Data\n",
        "sc = StandardScaler()\n",
        "X_train = sc.fit_transform(x_train)\n",
        "X_test = sc.transform(x_test)"
      ],
      "execution_count": 135,
      "outputs": [
        {
          "output_type": "stream",
          "text": [
            "(291766, 100)\n"
          ],
          "name": "stdout"
        }
      ]
    },
    {
      "cell_type": "code",
      "metadata": {
        "id": "M3z2ujp0V9jq"
      },
      "source": [
        "# Reshaping the Data\n",
        "Y_train=y_train\n",
        "Y_test=y_test"
      ],
      "execution_count": 146,
      "outputs": []
    },
    {
      "cell_type": "markdown",
      "metadata": {
        "id": "IsKeXm0HFM-w"
      },
      "source": [
        "### Random Forest Classifier"
      ]
    },
    {
      "cell_type": "code",
      "metadata": {
        "id": "F4QhbL86FQWH"
      },
      "source": [
        "from sklearn.ensemble import RandomForestClassifier\n",
        "\n",
        "# Defining Model\n",
        "model = RandomForestClassifier()\n",
        "\n",
        "# Training Model\n",
        "model.fit(X_train, Y_train)\n",
        "\n",
        "# Predicting Results\n",
        "y_pred = model.predict(X_test)"
      ],
      "execution_count": 156,
      "outputs": []
    },
    {
      "cell_type": "code",
      "metadata": {
        "colab": {
          "base_uri": "https://localhost:8080/",
          "height": 295
        },
        "id": "GRfL_P0aHB6Q",
        "outputId": "d5a66133-3c37-48fa-c0e1-3484fcdf9b49"
      },
      "source": [
        "import seaborn as sn\n",
        "from sklearn.metrics import confusion_matrix\n",
        "\n",
        "# Confusion Matrix\n",
        "cm = confusion_matrix(Y_test.argmax(axis=1), y_pred.argmax(axis=1))\n",
        "sn.heatmap(cm/np.sum(cm), annot=True, fmt='.2%', cmap='Blues')\n",
        "plt.xlabel(\"True Label\")\n",
        "plt.ylabel(\"Predicted Label\")\n",
        "plt.title('Confusion Matrix for Decision Tree Classifier')\n",
        "plt.show()"
      ],
      "execution_count": 157,
      "outputs": [
        {
          "output_type": "display_data",
          "data": {
            "image/png": "[encoded data removed]",
            "text/plain": [
              "<Figure size 432x288 with 2 Axes>"
            ]
          },
          "metadata": {
            "tags": [],
            "needs_background": "light"
          }
        }
      ]
    },
    {
      "cell_type": "code",
      "metadata": {
        "colab": {
          "base_uri": "https://localhost:8080/"
        },
        "id": "Ad2G7iYUHhfN",
        "outputId": "fbd64964-2583-4e29-c6a0-42a3c1f5c3ac"
      },
      "source": [
        "from sklearn.metrics import accuracy_score\n",
        "from sklearn.metrics import f1_score\n",
        "from sklearn.metrics import roc_auc_score\n",
        "from sklearn.metrics import log_loss\n",
        "\n",
        "# Performance Measures\n",
        "print(\"Accuracy:\", accuracy_score(Y_test, y_pred))\n",
        "print(\"F1 Score:\", f1_score(Y_test, y_pred, average='micro'))\n",
        "print(\"AUC ROC:\", roc_auc_score(Y_test, y_pred, multi_class='ovr'))\n",
        "print(\"Log Loss:\", log_loss(Y_test, y_pred))"
      ],
      "execution_count": 158,
      "outputs": [
        {
          "output_type": "stream",
          "text": [
            "Accuracy: 0.10708316339179322\n",
            "F1 Score: 0.17569757448120663\n",
            "AUC ROC: 0.5256760227590166\n",
            "Log Loss: 5.263154217142652\n"
          ],
          "name": "stdout"
        }
      ]
    },
    {
      "cell_type": "markdown",
      "metadata": {
        "id": "oGzNHeJPYgjZ"
      },
      "source": [
        "### Decision Tree Classifier"
      ]
    },
    {
      "cell_type": "code",
      "metadata": {
        "id": "JCeu9FbZYfvJ"
      },
      "source": [
        "from sklearn.tree import DecisionTreeClassifier\n",
        "\n",
        "# Defining Model\n",
        "model = DecisionTreeClassifier()\n",
        "\n",
        "# Training Model\n",
        "model.fit(X_train, Y_train)\n",
        "\n",
        "# Predicting Results\n",
        "y_pred = model.predict(X_test)"
      ],
      "execution_count": 97,
      "outputs": []
    },
    {
      "cell_type": "code",
      "metadata": {
        "colab": {
          "base_uri": "https://localhost:8080/",
          "height": 295
        },
        "id": "Vl-k0RKKYt3L",
        "outputId": "162a0dcb-e657-430b-ba9e-347747e106b0"
      },
      "source": [
        "import seaborn as sn\n",
        "from sklearn.metrics import confusion_matrix\n",
        "\n",
        "# Confusion Matrix\n",
        "cm = confusion_matrix(Y_test.argmax(axis=1), y_pred.argmax(axis=1))\n",
        "sn.heatmap(cm/np.sum(cm), annot=True, fmt='.2%', cmap='Blues')\n",
        "plt.xlabel(\"True Label\")\n",
        "plt.ylabel(\"Predicted Label\")\n",
        "plt.title('Confusion Matrix for Decision Tree Classifier')\n",
        "plt.show()"
      ],
      "execution_count": 99,
      "outputs": [
        {
          "output_type": "display_data",
          "data": {
            "image/png": "[encoded data removed]",
            "text/plain": [
              "<Figure size 432x288 with 2 Axes>"
            ]
          },
          "metadata": {
            "tags": [],
            "needs_background": "light"
          }
        }
      ]
    },
    {
      "cell_type": "code",
      "metadata": {
        "colab": {
          "base_uri": "https://localhost:8080/"
        },
        "id": "O_Nh5fhsYvWk",
        "outputId": "f0bee1d6-0e3e-4726-f603-4689a2aa9bc9"
      },
      "source": [
        "from sklearn.metrics import accuracy_score\n",
        "from sklearn.metrics import f1_score\n",
        "from sklearn.metrics import roc_auc_score\n",
        "from sklearn.metrics import log_loss\n",
        "\n",
        "# Performance Measures\n",
        "print(\"Accuracy:\", accuracy_score(Y_test, y_pred))\n",
        "print(\"F1 Score:\", f1_score(Y_test, y_pred, average='micro'))\n",
        "print(\"AUC ROC:\", roc_auc_score(Y_test, y_pred, multi_class='ovr'))\n",
        "print(\"Log Loss:\", log_loss(Y_test, y_pred))"
      ],
      "execution_count": 100,
      "outputs": [
        {
          "output_type": "stream",
          "text": [
            "Accuracy: 0.4661996273281991\n",
            "F1 Score: 0.4729683132730511\n",
            "AUC ROC: 0.6406778468591444\n",
            "Log Loss: 17.499521550430494\n"
          ],
          "name": "stdout"
        }
      ]
    },
    {
      "cell_type": "markdown",
      "metadata": {
        "id": "iVxnxxkt_IVR"
      },
      "source": [
        "## **Others**"
      ]
    },
    {
      "cell_type": "markdown",
      "metadata": {
        "id": "D-fP9ubeChuI"
      },
      "source": [
        "### Tokenizer: Saving and Loading"
      ]
    },
    {
      "cell_type": "code",
      "metadata": {
        "id": "krUH6ewwClGq"
      },
      "source": [
        "import pickle\n",
        "\n",
        "# Setting Up Path\n",
        "tokenizer_Path = '/content/gdrive/MyDrive/SMIA/tokenizer.pkl'"
      ],
      "execution_count": 62,
      "outputs": []
    },
    {
      "cell_type": "code",
      "metadata": {
        "id": "yx-wZxe6Cu9Q"
      },
      "source": [
        "# Loading Tokenizer\n",
        "tokenizer = pickle.load(open(tokenizer_Path, \"rb\"))"
      ],
      "execution_count": 65,
      "outputs": []
    },
    {
      "cell_type": "code",
      "metadata": {
        "id": "OyD1N6PYCsG4"
      },
      "source": [
        "# Saving Tokenizer\n",
        "pickle.dump(tokenizer, open(tokenizer_Path, \"wb\"), protocol=0)"
      ],
      "execution_count": 64,
      "outputs": []
    },
    {
      "cell_type": "markdown",
      "metadata": {
        "id": "4dVXV442_NaY"
      },
      "source": [
        "### Word2Vec: Saving and Loading"
      ]
    },
    {
      "cell_type": "code",
      "metadata": {
        "id": "9PSJdKF__qmo"
      },
      "source": [
        "# Setting Up Path\n",
        "w2v_Path = '/content/gdrive/MyDrive/SMIA/w2vModel.w2v'"
      ],
      "execution_count": 66,
      "outputs": []
    },
    {
      "cell_type": "code",
      "metadata": {
        "id": "bMgFSu8q_7X5"
      },
      "source": [
        "# Loading the Model\n",
        "w2v_model = gensim.models.Word2Vec.load(w2v_Path)"
      ],
      "execution_count": 68,
      "outputs": []
    },
    {
      "cell_type": "code",
      "metadata": {
        "id": "iaRZq4_6_LB7"
      },
      "source": [
        "# Saving the Model\n",
        "w2v_model.save(w2v_Path)"
      ],
      "execution_count": 76,
      "outputs": []
    },
    {
      "cell_type": "markdown",
      "metadata": {
        "id": "yPa-6CNjEO9P"
      },
      "source": [
        "### LSTM Model: Saving and Loading"
      ]
    },
    {
      "cell_type": "code",
      "metadata": {
        "id": "mqDWVnobERwA"
      },
      "source": [
        "# Setting Up Path\n",
        "lstm_Path = '/content/gdrive/MyDrive/SMIA/lstmModel.h5'"
      ],
      "execution_count": 85,
      "outputs": []
    },
    {
      "cell_type": "code",
      "metadata": {
        "id": "vI5-3_GFEaZE"
      },
      "source": [
        "from tensorflow.keras.models import load_model\n",
        "\n",
        "# Loading the Model\n",
        "lstmModel = load_model(lstm_Path)"
      ],
      "execution_count": null,
      "outputs": []
    },
    {
      "cell_type": "code",
      "metadata": {
        "id": "jfRAMundEb-o"
      },
      "source": [
        "# Saving the Model\n",
        "lstmModel.save_weights(lstm_Path)"
      ],
      "execution_count": 86,
      "outputs": []
    },
    {
      "cell_type": "markdown",
      "metadata": {
        "id": "cKc_nDjPGKYf"
      },
      "source": [
        "### NN Model: Saving and Loading"
      ]
    },
    {
      "cell_type": "code",
      "metadata": {
        "id": "hCCTUVux7co4"
      },
      "source": [
        "# Setting Up Path\n",
        "nnModel_Path = '/content/gdrive/MyDrive/SMIA/nnModel.h5'"
      ],
      "execution_count": 136,
      "outputs": []
    },
    {
      "cell_type": "code",
      "metadata": {
        "id": "IUkguVyyGG_y"
      },
      "source": [
        "from tensorflow.keras.models import load_model\n",
        "\n",
        "# Loading the Model\n",
        "nnModel = load_model(nnModel_Path)"
      ],
      "execution_count": null,
      "outputs": []
    },
    {
      "cell_type": "code",
      "metadata": {
        "id": "TC4zEM6qF6w0"
      },
      "source": [
        "# Saving the Model\n",
        "nnModel.save_weights(nnModel_Path)"
      ],
      "execution_count": 138,
      "outputs": []
    }
  ]
}